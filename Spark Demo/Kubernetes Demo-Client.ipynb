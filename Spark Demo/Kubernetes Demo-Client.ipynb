{
 "cells": [
  {
   "cell_type": "code",
   "execution_count": 1,
   "metadata": {},
   "outputs": [],
   "source": [
    "import requests \n",
    "import json\n",
    "import FAIR"
   ]
  },
  {
   "cell_type": "markdown",
   "metadata": {},
   "source": [
    "## First get authorized"
   ]
  },
  {
   "cell_type": "code",
   "execution_count": null,
   "metadata": {},
   "outputs": [],
   "source": [
    "r = requests.post('https://clarklab.uvarc.io/auth/logout',headers = {\"Authorization\":token })\n",
    "r.content.decode()"
   ]
  },
  {
   "cell_type": "markdown",
   "metadata": {},
   "source": [
    "Visit:\n",
    "<br>\n",
    "https://clarklab.uvarc.io/auth/login\n",
    "<br>\n",
    "And copy and paste access token below"
   ]
  },
  {
   "cell_type": "code",
   "execution_count": 21,
   "metadata": {},
   "outputs": [],
   "source": [
    "token = \"Agy5d87GWaVB48yjxMBKpJX2PwM7MjXo00arEKle5mYbqWVP3WUVC6gkB0Nbxm6g16aV7rB4ynOjElCOj8qmysW1dyHXwJQiN2kVSv78ohM9Wo\""
   ]
  },
  {
   "cell_type": "code",
   "execution_count": 25,
   "metadata": {},
   "outputs": [
    {
     "data": {
      "text/plain": [
       "<Response [204]>"
      ]
     },
     "execution_count": 25,
     "metadata": {},
     "output_type": "execute_result"
    }
   ],
   "source": [
    "requests.post('https://clarklab.uvarc.io/auth/inspect',headers = {'Authorization':'Agdye4XpNrdq1rpd46EM6NVe3rq6KxD998m4aXDMDVWGyOq997TXCxzooP5oNq088z6e7r42D6BgD0hgQXym5f9Wk8IkmyMFMp9KF152DunqJy'})"
   ]
  },
  {
   "cell_type": "markdown",
   "metadata": {},
   "source": [
    "## Using Transfer Service upload data with metadata"
   ]
  },
  {
   "cell_type": "markdown",
   "metadata": {},
   "source": [
    "Upload a file to minio via the upload_file function.\n",
    "<br>\n",
    "<br>\n",
    "upload_file takes:\n",
    "        - file_path: path to local file \n",
    "        - metadata: describes the file to be uploaded\n",
    "returns:\n",
    "    - PID representing object\n",
    "upload_file then calls the transfer service which uploads the file to minio and metadata to mongoDB and Stardog"
   ]
  },
  {
   "cell_type": "code",
   "execution_count": 22,
   "metadata": {},
   "outputs": [
    {
     "data": {
      "text/plain": [
       "'ark:99999/75120e66-59f1-4346-a7c2-caeb69a5011e'"
      ]
     },
     "execution_count": 22,
     "metadata": {},
     "output_type": "execute_result"
    }
   ],
   "source": [
    "dataset_meta = {\n",
    "    \"@context\":{\n",
    "        \"@vocab\":\"http://schema.org/\"\n",
    "    },\n",
    "    \"@type\":\"Dataset\",\n",
    "    \"name\":\"Raw Data\",\n",
    "    \"description\":\"Heart Rate Measures from patient from admission to discharge.\",\n",
    "    \"author\":[\n",
    "        {\n",
    "            \"name\":\"Justin Niestroy\",\n",
    "            \"@id\": \"https://orcid.org/0000-0002-1103-3882\",\n",
    "            \"affiliation\":\"University of Virginia\"\n",
    "        }\n",
    "    ],\n",
    "}\n",
    "data_id = FAIR.upload_file('UVA_7129_HR2.csv',dataset_meta,token = token)\n",
    "data_id"
   ]
  },
  {
   "cell_type": "markdown",
   "metadata": {},
   "source": [
    "## Check MDS to make sure metadata was uploaded correctly"
   ]
  },
  {
   "cell_type": "markdown",
   "metadata": {},
   "source": [
    "retrieve_metadata calls MDS to get the metadata for the newly minted id.\n",
    "<br>\n",
    "<br>\n",
    "retrieve_metadata takes:\n",
    "    - PID: identifier of interest\n",
    "returns:\n",
    "    - json-ld metadata of given PID"
   ]
  },
  {
   "cell_type": "code",
   "execution_count": 6,
   "metadata": {},
   "outputs": [
    {
     "data": {
      "text/plain": [
       "{'@context': {'@vocab': 'http://schema.org/'},\n",
       " '@id': 'ark:99999/8e93e470-608f-4f26-bd51-651d7632cbf9',\n",
       " '@type': 'Dataset',\n",
       " 'author': [{'@id': 'https://orcid.org/0000-0002-1103-3882',\n",
       "   'affiliation': 'University of Virginia',\n",
       "   'name': 'Justin Niestroy'}],\n",
       " 'description': 'Heart Rate Measures from patient from admission to discharge.',\n",
       " 'distribution': [{'@id': 'ark:99999/1a5a4b08-f852-472b-b189-823471a3bf6c',\n",
       "   '@type': 'DataDownload',\n",
       "   'contentSize': 201072,\n",
       "   'contentUrl': 'minio:9000/breakfast/UVA_7129_HR2.csv',\n",
       "   'fileFormat': 'csv',\n",
       "   'name': 'UVA_7129_HR2.csv'}],\n",
       " 'name': 'Raw Data',\n",
       " 'sdPublicationDate': '2020-08-11T14:04:42.205709643Z',\n",
       " 'url': 'http://ors.uvadcos.io/ark:99999/8e93e470-608f-4f26-bd51-651d7632cbf9'}"
      ]
     },
     "execution_count": 6,
     "metadata": {},
     "output_type": "execute_result"
    }
   ],
   "source": [
    "FAIR.retrieve_metadata(data_id,token = token)"
   ]
  },
  {
   "cell_type": "markdown",
   "metadata": {},
   "source": [
    "## Upload Spark Script to run on newly uploaded data"
   ]
  },
  {
   "cell_type": "code",
   "execution_count": 7,
   "metadata": {},
   "outputs": [
    {
     "data": {
      "text/plain": [
       "'ark:99999/067fbda2-0cdb-4687-9ed1-3eeeb8ff9d61'"
      ]
     },
     "execution_count": 7,
     "metadata": {},
     "output_type": "execute_result"
    }
   ],
   "source": [
    "spark_code_meta = {\n",
    "    \"@context\":{\n",
    "        \"@vocab\":\"http://schema.org/\"\n",
    "    },\n",
    "    \"@type\":\"SoftwareSourceCode\",\n",
    "    \"name\":\"Processing  Script\",\n",
    "    \"description\":\"Sample Source Code for HCTSA test on spark\",\n",
    "    \"author\":[\n",
    "        {\n",
    "            \"name\":\"Justin Niestroy\",\n",
    "            \"@id\": \"https://orcid.org/0000-0002-1103-3882\",\n",
    "            \"affiliation\":\"University of Virginia\"\n",
    "      }\n",
    "    ]\n",
    "}\n",
    "software_id = FAIR.upload_file('run_algos.py',spark_code_meta,token = token)\n",
    "software_id"
   ]
  },
  {
   "cell_type": "markdown",
   "metadata": {},
   "source": [
    "## Submit Spark Job Using Compute Service"
   ]
  },
  {
   "cell_type": "markdown",
   "metadata": {},
   "source": [
    "Run a the uploaded script on the uploaded data by calling compute\n",
    "<br>\n",
    "<br>\n",
    "FAIR.compute takes: \n",
    "    - data pid \n",
    "    - software pid\n",
    "    - type of job ie spark,nipype,custom  \n",
    "compute then launches kubernetes pods to run the given script on the provided data using specialized pods\n",
    "<br>\n",
    "<br>\n",
    "compute returns:\n",
    "    - job_PID "
   ]
  },
  {
   "cell_type": "code",
   "execution_count": 8,
   "metadata": {},
   "outputs": [
    {
     "data": {
      "text/plain": [
       "'ark:99999/3623aaed-b144-487f-be16-5dca419f5c69'"
      ]
     },
     "execution_count": 8,
     "metadata": {},
     "output_type": "execute_result"
    }
   ],
   "source": [
    "job_id = FAIR.compute(data_id,software_id,'spark',token = token)\n",
    "job_id"
   ]
  },
  {
   "cell_type": "markdown",
   "metadata": {},
   "source": [
    "## Watch Running Job\n",
    "list_running_jobs takes:\n",
    "<br>\n",
    "<br>\n",
    "list_running_jobs returns:\n",
    "    - list of running job PIDs"
   ]
  },
  {
   "cell_type": "code",
   "execution_count": 10,
   "metadata": {},
   "outputs": [
    {
     "data": {
      "text/plain": [
       "[]"
      ]
     },
     "execution_count": 10,
     "metadata": {},
     "output_type": "execute_result"
    }
   ],
   "source": [
    "FAIR.list_running_jobs(token = token)"
   ]
  },
  {
   "cell_type": "markdown",
   "metadata": {},
   "source": [
    "## Get Job outputs from job metadata"
   ]
  },
  {
   "cell_type": "markdown",
   "metadata": {},
   "source": [
    "Upon completion of a job the compute service updates the job id metadata to include properties:\n",
    "    - evi:supports: list of output PIDs \n",
    "    - logs: logs from job"
   ]
  },
  {
   "cell_type": "code",
   "execution_count": 11,
   "metadata": {},
   "outputs": [
    {
     "data": {
      "text/plain": [
       "[{'@id': 'ark:99999/77e79e97-98e1-4d34-a11b-dc6eb1e7561a'},\n",
       " {'@id': 'ark:99999/48b8d22d-4859-48cc-8d2b-e4b4312d3b03'}]"
      ]
     },
     "execution_count": 11,
     "metadata": {},
     "output_type": "execute_result"
    }
   ],
   "source": [
    "job_metadata = FAIR.retrieve_metadata(job_id,token = token)\n",
    "output_ids = job_metadata.get('evi:supports')\n",
    "output_ids"
   ]
  },
  {
   "cell_type": "markdown",
   "metadata": {},
   "source": [
    "The computation created 2 outputs\n",
    "<br>\n",
    "Metadata for the two created outputs is shown below"
   ]
  },
  {
   "cell_type": "code",
   "execution_count": 12,
   "metadata": {},
   "outputs": [
    {
     "data": {
      "text/plain": [
       "[{'@context': {'@vocab': 'http://schema.org/'},\n",
       "  '@id': 'ark:99999/77e79e97-98e1-4d34-a11b-dc6eb1e7561a',\n",
       "  '@type': 'Dataset',\n",
       "  'distribution': [{'@id': 'ark:99999/3d196a77-a3b7-4f83-ba2c-b901bd69eef5',\n",
       "    '@type': 'DataDownload',\n",
       "    'contentUrl': 'minio:9000/breakfast/3623aaed-b144-487f-be16-5dca419f5c69/_SUCCESS',\n",
       "    'fileFormat': '_SUCCESS',\n",
       "    'name': '_SUCCESS'}],\n",
       "  'evi:generatedBy': {'@id': 'ark:99999/3623aaed-b144-487f-be16-5dca419f5c69'},\n",
       "  'name': '_SUCCESS',\n",
       "  'sdPublicationDate': '2020-08-11T14:07:04.02756933Z',\n",
       "  'url': 'http://ors.uvadcos.io/ark:99999/77e79e97-98e1-4d34-a11b-dc6eb1e7561a'},\n",
       " {'@context': {'@vocab': 'http://schema.org/'},\n",
       "  '@id': 'ark:99999/48b8d22d-4859-48cc-8d2b-e4b4312d3b03',\n",
       "  '@type': 'Dataset',\n",
       "  'distribution': [{'@id': 'ark:99999/4bf78bfe-251f-41e2-963d-4aa3ef37a6ac',\n",
       "    '@type': 'DataDownload',\n",
       "    'contentUrl': 'minio:9000/breakfast/3623aaed-b144-487f-be16-5dca419f5c69/part-00000-140fd052-992e-4386-8552-108f89cfe961-c000.csv',\n",
       "    'fileFormat': 'csv',\n",
       "    'name': 'part-00000-140fd052-992e-4386-8552-108f89cfe961-c000.csv'}],\n",
       "  'evi:generatedBy': {'@id': 'ark:99999/3623aaed-b144-487f-be16-5dca419f5c69'},\n",
       "  'name': 'part-00000-140fd052-992e-4386-8552-108f89cfe961-c000.csv',\n",
       "  'sdPublicationDate': '2020-08-11T14:07:04.752654049Z',\n",
       "  'url': 'http://ors.uvadcos.io/ark:99999/48b8d22d-4859-48cc-8d2b-e4b4312d3b03'}]"
      ]
     },
     "execution_count": 12,
     "metadata": {},
     "output_type": "execute_result"
    }
   ],
   "source": [
    "output_metadata = [ \n",
    "   FAIR.retrieve_metadata(out['@id'],token = token) for out in output_ids\n",
    "]\n",
    "output_metadata"
   ]
  },
  {
   "cell_type": "markdown",
   "metadata": {},
   "source": [
    "## Upload Image Code"
   ]
  },
  {
   "cell_type": "code",
   "execution_count": 13,
   "metadata": {},
   "outputs": [],
   "source": [
    "spark_graphic_meta = {\n",
    "    \"@context\":{\n",
    "        \"@vocab\":\"http://schema.org/\"\n",
    "    },\n",
    "    \"@type\":\"SoftwareSourceCode\",\n",
    "    \"name\":\"Image Script\",\n",
    "    \"description\":\"Creates heatmap of patients stay\",\n",
    "    \"author\":[\n",
    "        {\n",
    "            \"name\":\"Justin Niestroy\",\n",
    "            \"@id\": \"https://orcid.org/0000-0002-1103-3882\",\n",
    "            \"affiliation\":\"University of Virginia\"\n",
    "      }\n",
    "    ]\n",
    "}\n",
    "graphic_code_id = FAIR.upload_file('make_graphic.py',spark_graphic_meta,token = token)"
   ]
  },
  {
   "cell_type": "markdown",
   "metadata": {},
   "source": [
    "## Run Spark Job to create Image"
   ]
  },
  {
   "cell_type": "code",
   "execution_count": 14,
   "metadata": {},
   "outputs": [
    {
     "data": {
      "text/plain": [
       "'ark:99999/077d0282-1318-4fb2-84b9-52b6620cd655'"
      ]
     },
     "execution_count": 14,
     "metadata": {},
     "output_type": "execute_result"
    }
   ],
   "source": [
    "image_job_id = FAIR.compute(output_ids[1]['@id'],graphic_code_id,'spark',token = token)\n",
    "image_job_id"
   ]
  },
  {
   "cell_type": "markdown",
   "metadata": {},
   "source": [
    "## Check on running jobs"
   ]
  },
  {
   "cell_type": "code",
   "execution_count": 16,
   "metadata": {},
   "outputs": [
    {
     "data": {
      "text/plain": [
       "[]"
      ]
     },
     "execution_count": 16,
     "metadata": {},
     "output_type": "execute_result"
    }
   ],
   "source": [
    "FAIR.list_running_jobs(token = token)"
   ]
  },
  {
   "cell_type": "markdown",
   "metadata": {},
   "source": [
    "### Get image ID from Updated Job ID"
   ]
  },
  {
   "cell_type": "code",
   "execution_count": 17,
   "metadata": {},
   "outputs": [],
   "source": [
    "image_job_meta = FAIR.retrieve_metadata(image_job_id,token = token)\n",
    "image_id = image_job_meta['evi:supports'][0]['@id']"
   ]
  },
  {
   "cell_type": "markdown",
   "metadata": {},
   "source": [
    "## Get the image metadata"
   ]
  },
  {
   "cell_type": "code",
   "execution_count": 18,
   "metadata": {},
   "outputs": [
    {
     "data": {
      "text/plain": [
       "{'@context': {'@vocab': 'http://schema.org/'},\n",
       " '@id': 'ark:99999/56e22bf2-8835-46e2-b80d-3225967ee429',\n",
       " '@type': 'Dataset',\n",
       " 'distribution': [{'@id': 'ark:99999/817433b7-3db2-42b4-bc33-e31fb2473e38',\n",
       "   '@type': 'DataDownload',\n",
       "   'contentUrl': 'minio:9000/breakfast/077d0282-1318-4fb2-84b9-52b6620cd655/Histogram_Heatmap.png',\n",
       "   'fileFormat': 'png',\n",
       "   'name': 'Histogram_Heatmap.png'}],\n",
       " 'evi:generatedBy': {'@id': 'ark:99999/077d0282-1318-4fb2-84b9-52b6620cd655'},\n",
       " 'name': 'Histogram_Heatmap.png',\n",
       " 'sdPublicationDate': '2020-08-11T14:10:11.284196878Z',\n",
       " 'url': 'http://ors.uvadcos.io/ark:99999/56e22bf2-8835-46e2-b80d-3225967ee429'}"
      ]
     },
     "execution_count": 18,
     "metadata": {},
     "output_type": "execute_result"
    }
   ],
   "source": [
    "FAIR.retrieve_metadata(image_id,token = token)"
   ]
  },
  {
   "cell_type": "markdown",
   "metadata": {},
   "source": [
    "### Build Evidence graph of created image using the evidence graph service"
   ]
  },
  {
   "cell_type": "markdown",
   "metadata": {},
   "source": [
    "Evidence Graph Service builds an json-ld evidence graph representing the provenance (datasets, software, and computations that support the PID)\n",
    "<br>\n",
    "<br>\n",
    "evidence_graph takes:\n",
    "    - PID\n",
    "evidence_graph returns:\n",
    "    - json-ld evidence graph for given PID"
   ]
  },
  {
   "cell_type": "code",
   "execution_count": 19,
   "metadata": {},
   "outputs": [
    {
     "data": {
      "text/plain": [
       "{'@context': {'@vocab': 'http://schema.org/', 'evi': 'http://w3id.org/EVI#'},\n",
       " '@id': 'ark:99999/56e22bf2-8835-46e2-b80d-3225967ee429',\n",
       " '@type': 'Dataset',\n",
       " 'evi:generatedBy': {'@id': 'ark:99999/077d0282-1318-4fb2-84b9-52b6620cd655',\n",
       "  '@type': 'evi:Computation',\n",
       "  'evi:usedDataset': {'@id': 'ark:99999/48b8d22d-4859-48cc-8d2b-e4b4312d3b03',\n",
       "   '@type': 'Dataset',\n",
       "   'evi:generatedBy': {'@id': 'ark:99999/3623aaed-b144-487f-be16-5dca419f5c69',\n",
       "    '@type': 'evi:Computation',\n",
       "    'evi:usedDataset': {'@id': 'ark:99999/8e93e470-608f-4f26-bd51-651d7632cbf9',\n",
       "     '@type': 'Dataset',\n",
       "     'author': {'@id': 'https://orcid.org/0000-0002-1103-3882',\n",
       "      '@type': 'Person',\n",
       "      'name': 'Justin Niestroy'},\n",
       "     'name': 'Raw Data'},\n",
       "    'evi:usedSoftware': {'@id': 'ark:99999/067fbda2-0cdb-4687-9ed1-3eeeb8ff9d61',\n",
       "     '@type': 'SoftwareSourceCode',\n",
       "     'author': {'@id': 'https://orcid.org/0000-0002-1103-3882',\n",
       "      '@type': 'Person',\n",
       "      'name': 'Justin Niestroy'},\n",
       "     'name': 'Processing  Script'},\n",
       "    'name': 'Computation'},\n",
       "   'name': 'part-00000-140fd052-992e-4386-8552-108f89cfe961-c000.csv'},\n",
       "  'evi:usedSoftware': {'@id': 'ark:99999/8f3f9273-e42d-47f1-8a11-367ba1002c62',\n",
       "   '@type': 'SoftwareSourceCode',\n",
       "   'author': {'@id': 'https://orcid.org/0000-0002-1103-3882',\n",
       "    '@type': 'Person',\n",
       "    'name': 'Justin Niestroy'},\n",
       "   'name': 'Image Script'},\n",
       "  'name': 'Computation'},\n",
       " 'name': 'Histogram_Heatmap.png'}"
      ]
     },
     "execution_count": 19,
     "metadata": {},
     "output_type": "execute_result"
    }
   ],
   "source": [
    "FAIR.evidence_graph(image_id,token = token)"
   ]
  },
  {
   "cell_type": "markdown",
   "metadata": {},
   "source": [
    "## View Visualization of the Evidence Graph"
   ]
  },
  {
   "cell_type": "code",
   "execution_count": 20,
   "metadata": {},
   "outputs": [
    {
     "data": {
      "text/plain": [
       "'https://clarklab.uvarc.io/viz/ark:99999/56e22bf2-8835-46e2-b80d-3225967ee429'"
      ]
     },
     "execution_count": 20,
     "metadata": {},
     "output_type": "execute_result"
    }
   ],
   "source": [
    "'https://clarklab.uvarc.io/viz/' + image_id"
   ]
  },
  {
   "cell_type": "markdown",
   "metadata": {},
   "source": [
    "## Download Created Image"
   ]
  },
  {
   "cell_type": "markdown",
   "metadata": {},
   "source": [
    "Download output files from computations using download_file\n",
    "<br>\n",
    "<br>\n",
    "download_file takes:\n",
    "    - PID: id representing object to be downloaded\n",
    "    - name: file name for downloaded object\n",
    "<br>\n",
    "download_file returns:<br>\n",
    "         - bool: True if download if succesful<br>\n",
    "         - file saved location given"
   ]
  },
  {
   "cell_type": "code",
   "execution_count": null,
   "metadata": {},
   "outputs": [],
   "source": [
    "from IPython.display import Image\n",
    "FAIR.download_file(image_id,'Created Image.png',token = token)\n",
    "Image(filename='Created Image.png') "
   ]
  },
  {
   "cell_type": "code",
   "execution_count": null,
   "metadata": {},
   "outputs": [],
   "source": []
  }
 ],
 "metadata": {
  "kernelspec": {
   "display_name": "Python 3",
   "language": "python",
   "name": "python3"
  },
  "language_info": {
   "codemirror_mode": {
    "name": "ipython",
    "version": 3
   },
   "file_extension": ".py",
   "mimetype": "text/x-python",
   "name": "python",
   "nbconvert_exporter": "python",
   "pygments_lexer": "ipython3",
   "version": "3.7.6"
  }
 },
 "nbformat": 4,
 "nbformat_minor": 2
}
