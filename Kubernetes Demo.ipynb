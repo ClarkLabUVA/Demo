{
 "cells": [
  {
   "cell_type": "markdown",
   "metadata": {},
   "source": [
    "## Using Transfer Service upload data with metadata"
   ]
  },
  {
   "cell_type": "code",
   "execution_count": 32,
   "metadata": {},
   "outputs": [],
   "source": [
    "import requests \n",
    "import json\n",
    "\n",
    "dataset_meta = {\n",
    "    \"@context\":{\n",
    "        \"@vocab\":\"http://schema.org/\"\n",
    "    },\n",
    "    \"@type\":\"Dataset\",\n",
    "    \"name\":\"Raw Data\",\n",
    "    \"description\":\"Heart Rate Measures from patient from admission to discharge.\",\n",
    "    \"author\":[\n",
    "        {\n",
    "            \"name\":\"Justin Niestroy\",\n",
    "            \"@id\": \"https://orcid.org/0000-0002-1103-3882\",\n",
    "            \"affiliation\":\"University of Virginia\"\n",
    "        }\n",
    "    ],\n",
    "}"
   ]
  },
  {
   "cell_type": "markdown",
   "metadata": {},
   "source": [
    "Below is API call to post dataset to minio and metadata to mongo"
   ]
  },
  {
   "cell_type": "code",
   "execution_count": 39,
   "metadata": {},
   "outputs": [
    {
     "data": {
      "text/plain": [
       "'{\"All files uploaded\":true,\"Failed to mint Id for\":[],\"Minted Identifiers\":[\"ark:99999/a0671c63-a748-4f7f-ba6c-3340d2214cfc\"],\"failed to upload\":[]}\\n'"
      ]
     },
     "execution_count": 39,
     "metadata": {},
     "output_type": "execute_result"
    }
   ],
   "source": [
    "files = {\n",
    "    'files':open('UVA_7129_HR2.csv','rb'),\n",
    "    'metadata':json.dumps(dataset_meta)\n",
    "}\n",
    "\n",
    "url = 'http://transfer-service/data/'\n",
    "r = requests.post(url,files=files)\n",
    "r.content.decode()\n",
    "data_upload = r.json()\n",
    "data_id = r.json()['Minted Identifiers'][0]\n",
    "\n",
    "data_upload"
   ]
  },
  {
   "cell_type": "markdown",
   "metadata": {},
   "source": [
    "## Check MDS to make sure metadata was uploaded correctly"
   ]
  },
  {
   "cell_type": "code",
   "execution_count": null,
   "metadata": {},
   "outputs": [],
   "source": [
    "requests.get('http://mds.ors/' + data_id).json()"
   ]
  },
  {
   "cell_type": "markdown",
   "metadata": {},
   "source": [
    "## Upload Spark Script to run on newly uploaded data"
   ]
  },
  {
   "cell_type": "code",
   "execution_count": null,
   "metadata": {},
   "outputs": [],
   "source": [
    "spark_code_meta = {\n",
    "    \"@context\":{\n",
    "        \"@vocab\":\"http://schema.org/\"\n",
    "    },\n",
    "    \"@type\":\"SoftwareSourceCode\",\n",
    "    \"name\":\"Processing  Script\",\n",
    "    \"description\":\"Sample Source Code for HCTSA test on spark\",\n",
    "    \"author\":[\n",
    "        {\n",
    "            \"name\":\"Justin Niestroy\",\n",
    "            \"@id\": \"https://orcid.org/0000-0002-1103-3882\",\n",
    "            \"affiliation\":\"University of Virginia\"\n",
    "      }\n",
    "    ]\n",
    "}"
   ]
  },
  {
   "cell_type": "code",
   "execution_count": null,
   "metadata": {},
   "outputs": [],
   "source": [
    "files = {\n",
    "    'files':open('/run_algos.py','rb'),\n",
    "    'metadata':json.dumps(spark_code_meta)\n",
    "}\n",
    "\n",
    "url = 'http://transfer-service/data/'\n",
    "\n",
    "r = requests.post(url,files=files)\n",
    "r.content.decode()\n",
    "software_id = r.json()['Minted Identifiers'][0]"
   ]
  },
  {
   "cell_type": "markdown",
   "metadata": {},
   "source": [
    "## Submit Spark Job Using Compute Service"
   ]
  },
  {
   "cell_type": "code",
   "execution_count": null,
   "metadata": {},
   "outputs": [],
   "source": [
    "job = {\"datasetID\":data_id,\"scriptID\":software_id}\n",
    "\n",
    "R = requests.post(\"http://sparksubmit/job\",json = job)\n",
    "R.content.decode()"
   ]
  },
  {
   "cell_type": "markdown",
   "metadata": {},
   "source": [
    "## Get Job outputs from job metadata"
   ]
  },
  {
   "cell_type": "code",
   "execution_count": null,
   "metadata": {},
   "outputs": [],
   "source": [
    "requests.get('http://mds.ors/ark:99999/').json()['eg:supports']"
   ]
  },
  {
   "cell_type": "code",
   "execution_count": null,
   "metadata": {},
   "outputs": [],
   "source": [
    "output_id = 'ark:99999/eace030f-c2b8-4f84-b586-6f571b285d9a'\n",
    "requests.get('http://mds.ors/' + output_id).json()"
   ]
  },
  {
   "cell_type": "markdown",
   "metadata": {},
   "source": [
    "## Upload Image Code"
   ]
  },
  {
   "cell_type": "code",
   "execution_count": null,
   "metadata": {},
   "outputs": [],
   "source": [
    "spark_graphic_meta = {\n",
    "    \"@context\":{\n",
    "        \"@vocab\":\"http://schema.org/\"\n",
    "    },\n",
    "    \"@type\":\"SoftwareSourceCode\",\n",
    "    \"name\":\"Image Script\",\n",
    "    \"description\":\"Creates heatmap of patients stay\",\n",
    "    \"author\":[\n",
    "        {\n",
    "            \"name\":\"Justin Niestroy\",\n",
    "            \"@id\": \"https://orcid.org/0000-0002-1103-3882\",\n",
    "            \"affiliation\":\"University of Virginia\"\n",
    "      }\n",
    "    ]\n",
    "}"
   ]
  },
  {
   "cell_type": "code",
   "execution_count": null,
   "metadata": {},
   "outputs": [],
   "source": [
    "files = {\n",
    "    'files':open('/make_graphic.py','rb'),\n",
    "    'metadata':json.dumps(spark_graphic_meta)\n",
    "}\n",
    "\n",
    "url = 'http://transfer-service/data/'\n",
    "\n",
    "r = requests.post(url,files=files)\n",
    "r.content.decode()\n",
    "graphic_code_id = r.json()['Minted Identifiers'][0]"
   ]
  },
  {
   "cell_type": "markdown",
   "metadata": {},
   "source": [
    "## Run Spark Job to create Image"
   ]
  },
  {
   "cell_type": "code",
   "execution_count": null,
   "metadata": {},
   "outputs": [],
   "source": [
    "job2 = {\"datasetID\":output_id,\"scriptID\":graphic_code_id}\n",
    "\n",
    "R = requests.post(\"http://sparksubmit/job\",json = job2)\n",
    "job_id = 'ark:99999/' + R.content.decode()\n"
   ]
  },
  {
   "cell_type": "markdown",
   "metadata": {},
   "source": [
    "### Get image ID from updated job id"
   ]
  },
  {
   "cell_type": "code",
   "execution_count": null,
   "metadata": {},
   "outputs": [],
   "source": [
    "requests.get('http://mds.ors/' + job_id).json()['eg:supports']\n"
   ]
  },
  {
   "cell_type": "code",
   "execution_count": null,
   "metadata": {},
   "outputs": [],
   "source": [
    "output2_id = requests.get('http://mds.ors/' + job_id).json()['eg:supports'][0]"
   ]
  },
  {
   "cell_type": "markdown",
   "metadata": {},
   "source": [
    "### Build Evidence graph of created image using the evidence graph service"
   ]
  },
  {
   "cell_type": "code",
   "execution_count": null,
   "metadata": {},
   "outputs": [],
   "source": [
    "requests.get('http://eg/eg/' + output2_id).json()"
   ]
  },
  {
   "cell_type": "code",
   "execution_count": 3,
   "metadata": {},
   "outputs": [
    {
     "data": {
      "text/plain": [
       "{'@id': 'ark:99999/6d270e8e-8641-4e84-9ae0-2cc19f814ff7',\n",
       " 'eg:generatedBy': {'@id': 'ark:99999/1b03b0fa-c64d-46d2-ac17-fddcdfe677a0',\n",
       "  '@type': 'eg:Computation',\n",
       "  'began': 'Tuesday, May 12, 2020 06:03:59',\n",
       "  'eg:usedDataset': {'@id': 'ark:99999/266686a7-8cce-4a7b-90e7-24cad017962f',\n",
       "   'eg:generatedBy': {'@id': 'ark:99999/eb4ccc20-f7c4-480d-b47f-cd849782efd9',\n",
       "    'began': 'Tuesday, May 12, 2020 05:59:48',\n",
       "    'eg:supports': 'ark:99999/f6625ff2-690d-47f5-86bd-5aa96bce2856',\n",
       "    'eg:usedDataset': {'@id': 'ark:99999/227ab04f-4565-4fc3-95d7-e8a5025e36df',\n",
       "     '@type': 'Dataset',\n",
       "     'eg:generatedBy': 'ark:99999/716ac9d6-8d97-41a0-8ea1-40cb7b554ef7',\n",
       "     'name': 'Patient 7129 HR'},\n",
       "    'eg:usedSoftware': {'@id': 'ark:99999/da045a02-51fc-4cac-b3db-46c821e99ce5',\n",
       "     'eg:generatedBy': 'ark:99999/9b89ad2a-ecd9-4c59-a416-9702621c5021',\n",
       "     'name': 'Initial HCTSA Python Spark Implementation'}},\n",
       "   'name': 'part-00000-6b8274ee-6bb0-4965-92ae-9c35c5eeb0be-c000.csv'},\n",
       "  'eg:usedSoftware': {'@id': 'ark:99999/5ce6aa2a-03ee-4325-821d-adeb09105b18',\n",
       "   '@type': 'SoftwareSourceCode',\n",
       "   'author': {'@id': 'https://orcid.org/0000-0002-1103-3882',\n",
       "    'name': 'Justin Niestroy'},\n",
       "   'eg:generatedBy': 'ark:99999/7d49d1aa-f7ee-4448-a616-3c9c19eb7445',\n",
       "   'name': 'Heatmap Producer'}},\n",
       " 'name': 'Histogram_Heatmap.png'}"
      ]
     },
     "execution_count": 3,
     "metadata": {},
     "output_type": "execute_result"
    }
   ],
   "source": [
    "{'@id': 'ark:99999/6d270e8e-8641-4e84-9ae0-2cc19f814ff7', 'eg:generatedBy': {'@id': 'ark:99999/1b03b0fa-c64d-46d2-ac17-fddcdfe677a0', '@type': 'eg:Computation', 'began': 'Tuesday, May 12, 2020 06:03:59', 'eg:usedDataset': {'@id': 'ark:99999/266686a7-8cce-4a7b-90e7-24cad017962f', 'eg:generatedBy': {'@id': 'ark:99999/eb4ccc20-f7c4-480d-b47f-cd849782efd9', 'began': 'Tuesday, May 12, 2020 05:59:48', 'eg:supports': 'ark:99999/f6625ff2-690d-47f5-86bd-5aa96bce2856', 'eg:usedDataset': {'@id': 'ark:99999/227ab04f-4565-4fc3-95d7-e8a5025e36df', '@type': 'Dataset', 'eg:generatedBy': 'ark:99999/716ac9d6-8d97-41a0-8ea1-40cb7b554ef7', 'name': 'Patient 7129 HR'}, 'eg:usedSoftware': {'@id': 'ark:99999/da045a02-51fc-4cac-b3db-46c821e99ce5', 'eg:generatedBy': 'ark:99999/9b89ad2a-ecd9-4c59-a416-9702621c5021', 'name': 'Initial HCTSA Python Spark Implementation'}}, 'name': 'part-00000-6b8274ee-6bb0-4965-92ae-9c35c5eeb0be-c000.csv'}, 'eg:usedSoftware': {'@id': 'ark:99999/5ce6aa2a-03ee-4325-821d-adeb09105b18', '@type': 'SoftwareSourceCode', 'author': {'@id': 'https://orcid.org/0000-0002-1103-3882', 'name': 'Justin Niestroy'}, 'eg:generatedBy': 'ark:99999/7d49d1aa-f7ee-4448-a616-3c9c19eb7445', 'name': 'Heatmap Producer'}}, 'name': 'Histogram_Heatmap.png'}"
   ]
  },
  {
   "cell_type": "code",
   "execution_count": null,
   "metadata": {},
   "outputs": [],
   "source": []
  }
 ],
 "metadata": {
  "kernelspec": {
   "display_name": "Python 3",
   "language": "python",
   "name": "python3"
  },
  "language_info": {
   "codemirror_mode": {
    "name": "ipython",
    "version": 3
   },
   "file_extension": ".py",
   "mimetype": "text/x-python",
   "name": "python",
   "nbconvert_exporter": "python",
   "pygments_lexer": "ipython3",
   "version": "3.7.6"
  }
 },
 "nbformat": 4,
 "nbformat_minor": 2
}
