{
 "cells": [
  {
   "cell_type": "markdown",
   "metadata": {},
   "source": [
    "## Using Transfer Service upload data with metadata"
   ]
  },
  {
   "cell_type": "code",
   "execution_count": 38,
   "metadata": {},
   "outputs": [],
   "source": [
    "import requests \n",
    "import json\n",
    "\n",
    "dataset_meta = {\n",
    "    \"@context\":{\n",
    "        \"@vocab\":\"http://schema.org/\"\n",
    "    },\n",
    "    \"@type\":\"Dataset\",\n",
    "    \"name\":\"Raw Data\",\n",
    "    \"description\":\"Heart Rate Measures from patient from admission to discharge.\",\n",
    "    \"author\":[\n",
    "        {\n",
    "            \"name\":\"Justin Niestroy\",\n",
    "            \"@id\": \"https://orcid.org/0000-0002-1103-3882\",\n",
    "            \"affiliation\":\"University of Virginia\"\n",
    "        }\n",
    "    ],\n",
    "}"
   ]
  },
  {
   "cell_type": "markdown",
   "metadata": {},
   "source": [
    "Below is API call to post dataset to minio and metadata to mongo"
   ]
  },
  {
   "cell_type": "code",
   "execution_count": 39,
   "metadata": {},
   "outputs": [
    {
     "data": {
      "text/plain": [
       "{'All files uploaded': True,\n",
       " 'Failed to mint Id for': [],\n",
       " 'Minted Identifiers': ['ark:99999/068afbeb-3f86-4c2c-a9ce-f587db573039'],\n",
       " 'failed to upload': []}"
      ]
     },
     "execution_count": 39,
     "metadata": {},
     "output_type": "execute_result"
    }
   ],
   "source": [
    "upload_data = requests.post(\n",
    "    'https://clarklab.uvarc.io/transfer/data/',\n",
    "    files = {\n",
    "        'files':open('UVA_7129_HR2.csv','rb'),\n",
    "        'metadata':json.dumps(dataset_meta)\n",
    "    }\n",
    ")\n",
    "\n",
    "data_id = upload_data.json()['Minted Identifiers'][0]\n",
    "upload_data.json()"
   ]
  },
  {
   "cell_type": "markdown",
   "metadata": {},
   "source": [
    "## Check MDS to make sure metadata was uploaded correctly"
   ]
  },
  {
   "cell_type": "code",
   "execution_count": 40,
   "metadata": {},
   "outputs": [
    {
     "data": {
      "text/plain": [
       "{'@context': {'@vocab': 'http://schema.org/'},\n",
       " '@id': 'ark:99999/068afbeb-3f86-4c2c-a9ce-f587db573039',\n",
       " '@type': 'Dataset',\n",
       " 'author': [{'@id': 'https://orcid.org/0000-0002-1103-3882',\n",
       "   'affiliation': 'University of Virginia',\n",
       "   'name': 'Justin Niestroy'}],\n",
       " 'description': 'Heart Rate Measures from patient from admission to discharge.',\n",
       " 'distribution': [{'@id': 'ark:99999/3886b6cf-5f72-4ade-b61c-24396732ee32',\n",
       "   '@type': 'DataDownload',\n",
       "   'contentSize': 201072,\n",
       "   'contentUrl': 'minionas.uvadcos.io/breakfast/UVA_7129_HR2.csv',\n",
       "   'fileFormat': 'csv',\n",
       "   'name': 'UVA_7129_HR2.csv'}],\n",
       " 'name': 'Raw Data',\n",
       " 'sdPublicationDate': '2020-07-29T00:34:51.288908765Z',\n",
       " 'url': 'http://ors.uvadcos.io/ark:99999/068afbeb-3f86-4c2c-a9ce-f587db573039'}"
      ]
     },
     "execution_count": 40,
     "metadata": {},
     "output_type": "execute_result"
    }
   ],
   "source": [
    "metadata_request = requests.get('https://clarklab.uvarc.io/mds/' + data_id)\n",
    "metadata_request.json()"
   ]
  },
  {
   "cell_type": "markdown",
   "metadata": {},
   "source": [
    "## Upload Spark Script to run on newly uploaded data"
   ]
  },
  {
   "cell_type": "code",
   "execution_count": 41,
   "metadata": {},
   "outputs": [],
   "source": [
    "spark_code_meta = {\n",
    "    \"@context\":{\n",
    "        \"@vocab\":\"http://schema.org/\"\n",
    "    },\n",
    "    \"@type\":\"SoftwareSourceCode\",\n",
    "    \"name\":\"Processing  Script\",\n",
    "    \"description\":\"Sample Source Code for HCTSA test on spark\",\n",
    "    \"author\":[\n",
    "        {\n",
    "            \"name\":\"Justin Niestroy\",\n",
    "            \"@id\": \"https://orcid.org/0000-0002-1103-3882\",\n",
    "            \"affiliation\":\"University of Virginia\"\n",
    "      }\n",
    "    ]\n",
    "}"
   ]
  },
  {
   "cell_type": "code",
   "execution_count": 42,
   "metadata": {
    "scrolled": true
   },
   "outputs": [],
   "source": [
    "upload_script = requests.post(\n",
    "    'https://clarklab.uvarc.io/transfer/data/',\n",
    "    files= {\n",
    "        'files':open('./run_algos.py','rb'),\n",
    "        'metadata':json.dumps(spark_code_meta)\n",
    "    }\n",
    ")\n",
    "\n",
    "software_id = upload_script.json()['Minted Identifiers'][0]"
   ]
  },
  {
   "cell_type": "markdown",
   "metadata": {},
   "source": [
    "## Submit Spark Job Using Compute Service"
   ]
  },
  {
   "cell_type": "code",
   "execution_count": 43,
   "metadata": {},
   "outputs": [],
   "source": [
    "job = {\n",
    "    \"datasetID\":data_id,\n",
    "    \"scriptID\":software_id\n",
    "}\n",
    "\n",
    "create_job = requests.post(\n",
    "    \"https://clarklab.uvarc.io/compute/spark\",\n",
    "    json = job\n",
    ")\n",
    "\n",
    "job_id = create_job.content.decode()"
   ]
  },
  {
   "cell_type": "code",
   "execution_count": 44,
   "metadata": {},
   "outputs": [
    {
     "data": {
      "text/plain": [
       "'ark:99999/a69f31fd-fa20-4c28-bfb9-1f38110204e5'"
      ]
     },
     "execution_count": 44,
     "metadata": {},
     "output_type": "execute_result"
    }
   ],
   "source": [
    "job_id"
   ]
  },
  {
   "cell_type": "markdown",
   "metadata": {},
   "source": [
    "## Watch Running Job"
   ]
  },
  {
   "cell_type": "code",
   "execution_count": 47,
   "metadata": {},
   "outputs": [
    {
     "data": {
      "text/plain": [
       "{'runningJobIds': ['2ee431b3-5fea-4005-bf6d-dc12609ff059']}"
      ]
     },
     "execution_count": 47,
     "metadata": {},
     "output_type": "execute_result"
    }
   ],
   "source": [
    "requests.get(\"http://clarklab.uvarc.io/compute/spark\").json()"
   ]
  },
  {
   "cell_type": "markdown",
   "metadata": {},
   "source": [
    "## Get Job outputs from job metadata"
   ]
  },
  {
   "cell_type": "code",
   "execution_count": 48,
   "metadata": {},
   "outputs": [],
   "source": [
    "job_metadata_request = requests.get(\n",
    "    'https://clarklab.uvarc.io/mds/' + job_id\n",
    ")\n",
    "\n",
    "job_metadata = job_metadata_request.json()\n",
    "output_id = job_metadata.get('evi:supports')"
   ]
  },
  {
   "cell_type": "code",
   "execution_count": 49,
   "metadata": {},
   "outputs": [
    {
     "data": {
      "text/plain": [
       "[{'@id': 'ark:99999/0a32bd4e-fe82-4756-8cc7-8ae73525f531'},\n",
       " {'@id': 'ark:99999/9947a4d9-2680-4fa6-9f19-4fd1845091a6'}]"
      ]
     },
     "execution_count": 49,
     "metadata": {},
     "output_type": "execute_result"
    }
   ],
   "source": [
    "output_id"
   ]
  },
  {
   "cell_type": "code",
   "execution_count": 50,
   "metadata": {},
   "outputs": [],
   "source": [
    "output_metadata = [ \n",
    "    requests.get('https://clarklab.uvarc.io/mds/' + out['@id']).json() for out in output_id\n",
    "]"
   ]
  },
  {
   "cell_type": "code",
   "execution_count": 51,
   "metadata": {},
   "outputs": [
    {
     "data": {
      "text/plain": [
       "[{'@context': {'@vocab': 'http://schema.org/'},\n",
       "  '@id': 'ark:99999/0a32bd4e-fe82-4756-8cc7-8ae73525f531',\n",
       "  '@type': 'Dataset',\n",
       "  'distribution': [{'@id': 'ark:99999/2b69f800-f614-4698-be14-67c949f87b2e',\n",
       "    '@type': 'DataDownload',\n",
       "    'contentUrl': 'minio:9000/breakfast/a69f31fd-fa20-4c28-bfb9-1f38110204e5/_SUCCESS',\n",
       "    'fileFormat': '_SUCCESS',\n",
       "    'name': '_SUCCESS'}],\n",
       "  'evi:generatedBy': {'@id': 'ark:99999/a69f31fd-fa20-4c28-bfb9-1f38110204e5'},\n",
       "  'name': '_SUCCESS',\n",
       "  'sdPublicationDate': '2020-07-29T00:35:28.110474048Z',\n",
       "  'url': 'http://ors.uvadcos.io/ark:99999/0a32bd4e-fe82-4756-8cc7-8ae73525f531'},\n",
       " {'@context': {'@vocab': 'http://schema.org/'},\n",
       "  '@id': 'ark:99999/9947a4d9-2680-4fa6-9f19-4fd1845091a6',\n",
       "  '@type': 'Dataset',\n",
       "  'distribution': [{'@id': 'ark:99999/e9bae24b-b283-4e09-9f08-0e066a3e97fc',\n",
       "    '@type': 'DataDownload',\n",
       "    'contentUrl': 'minio:9000/breakfast/a69f31fd-fa20-4c28-bfb9-1f38110204e5/part-00000-4d490ac2-0c07-4c9a-9fc2-7018106104fe-c000.csv',\n",
       "    'fileFormat': 'csv',\n",
       "    'name': 'part-00000-4d490ac2-0c07-4c9a-9fc2-7018106104fe-c000.csv'}],\n",
       "  'evi:generatedBy': {'@id': 'ark:99999/a69f31fd-fa20-4c28-bfb9-1f38110204e5'},\n",
       "  'name': 'part-00000-4d490ac2-0c07-4c9a-9fc2-7018106104fe-c000.csv',\n",
       "  'sdPublicationDate': '2020-07-29T00:35:28.37934726Z',\n",
       "  'url': 'http://ors.uvadcos.io/ark:99999/9947a4d9-2680-4fa6-9f19-4fd1845091a6'}]"
      ]
     },
     "execution_count": 51,
     "metadata": {},
     "output_type": "execute_result"
    }
   ],
   "source": [
    "output_metadata"
   ]
  },
  {
   "cell_type": "markdown",
   "metadata": {},
   "source": [
    "## Upload Image Code"
   ]
  },
  {
   "cell_type": "code",
   "execution_count": 52,
   "metadata": {},
   "outputs": [],
   "source": [
    "spark_graphic_meta = {\n",
    "    \"@context\":{\n",
    "        \"@vocab\":\"http://schema.org/\"\n",
    "    },\n",
    "    \"@type\":\"SoftwareSourceCode\",\n",
    "    \"name\":\"Image Script\",\n",
    "    \"description\":\"Creates heatmap of patients stay\",\n",
    "    \"author\":[\n",
    "        {\n",
    "            \"name\":\"Justin Niestroy\",\n",
    "            \"@id\": \"https://orcid.org/0000-0002-1103-3882\",\n",
    "            \"affiliation\":\"University of Virginia\"\n",
    "      }\n",
    "    ]\n",
    "}"
   ]
  },
  {
   "cell_type": "code",
   "execution_count": 53,
   "metadata": {},
   "outputs": [
    {
     "data": {
      "text/plain": [
       "'ark:99999/5453c2db-4eda-4e47-9231-a2c0f3d8f141'"
      ]
     },
     "execution_count": 53,
     "metadata": {},
     "output_type": "execute_result"
    }
   ],
   "source": [
    "files = {\n",
    "    'files':open('./make_graphic.py','rb'),\n",
    "    'metadata':json.dumps(spark_graphic_meta)\n",
    "}\n",
    "\n",
    "upload_graphic_code = requests.post(\n",
    "    'https://clarklab.uvarc.io/transfer/data/',\n",
    "    files=files\n",
    ")\n",
    "\n",
    "graphic_code_id = upload_graphic_code.json()['Minted Identifiers'][0]\n",
    "graphic_code_id"
   ]
  },
  {
   "cell_type": "markdown",
   "metadata": {},
   "source": [
    "## Run Spark Job to create Image"
   ]
  },
  {
   "cell_type": "code",
   "execution_count": 24,
   "metadata": {},
   "outputs": [
    {
     "data": {
      "text/plain": [
       "'ark:99999/6312878c-a2ed-4b83-b298-6c7f16538815'"
      ]
     },
     "execution_count": 24,
     "metadata": {},
     "output_type": "execute_result"
    }
   ],
   "source": [
    "image_job = {\n",
    "    \"datasetID\":output_id[1]['@id'],\n",
    "    \"scriptID\": graphic_code_id\n",
    "}\n",
    "\n",
    "\n",
    "image_job_request = requests.post(\n",
    "    \"https://clarklab.uvarc.io/compute/spark\",\n",
    "    json = image_job\n",
    ")\n",
    "\n",
    "image_job_id =  image_job_request.content.decode()\n",
    "image_job_id"
   ]
  },
  {
   "cell_type": "markdown",
   "metadata": {},
   "source": [
    "## Check on running jobs"
   ]
  },
  {
   "cell_type": "code",
   "execution_count": 54,
   "metadata": {},
   "outputs": [
    {
     "data": {
      "text/plain": [
       "{'runningJobIds': ['2ee431b3-5fea-4005-bf6d-dc12609ff059']}"
      ]
     },
     "execution_count": 54,
     "metadata": {},
     "output_type": "execute_result"
    }
   ],
   "source": [
    "requests.get(\"http://clarklab.uvarc.io/compute/spark\").json()"
   ]
  },
  {
   "cell_type": "markdown",
   "metadata": {},
   "source": [
    "### Get image ID from Updated Job ID"
   ]
  },
  {
   "cell_type": "code",
   "execution_count": 55,
   "metadata": {},
   "outputs": [
    {
     "data": {
      "text/plain": [
       "'ark:99999/7681ef7e-82bf-4fa1-913a-f1870d8203ea'"
      ]
     },
     "execution_count": 55,
     "metadata": {},
     "output_type": "execute_result"
    }
   ],
   "source": [
    "image_job_metadata = requests.get(\n",
    "    'https://clarklab.uvarc.io/mds/' + image_job_id\n",
    ").json()\n",
    "image_id = image_job_metadata.get('evi:supports')[0]['@id']\n",
    "image_id"
   ]
  },
  {
   "cell_type": "markdown",
   "metadata": {},
   "source": [
    "## Get the image metadata"
   ]
  },
  {
   "cell_type": "code",
   "execution_count": 56,
   "metadata": {},
   "outputs": [
    {
     "data": {
      "text/plain": [
       "{'@context': {'@vocab': 'http://schema.org/'},\n",
       " '@id': 'ark:99999/7681ef7e-82bf-4fa1-913a-f1870d8203ea',\n",
       " '@type': 'Dataset',\n",
       " 'distribution': [{'@id': 'ark:99999/1011186f-6131-45a9-921d-d3ef6b8921d1',\n",
       "   '@type': 'DataDownload',\n",
       "   'contentUrl': 'minio:9000/breakfast/6312878c-a2ed-4b83-b298-6c7f16538815/Histogram_Heatmap.png',\n",
       "   'fileFormat': 'png',\n",
       "   'name': 'Histogram_Heatmap.png'}],\n",
       " 'evi:generatedBy': {'@id': 'ark:99999/6312878c-a2ed-4b83-b298-6c7f16538815'},\n",
       " 'name': 'Histogram_Heatmap.png',\n",
       " 'sdPublicationDate': '2020-07-28T23:32:14.94755418Z',\n",
       " 'url': 'http://ors.uvadcos.io/ark:99999/7681ef7e-82bf-4fa1-913a-f1870d8203ea'}"
      ]
     },
     "execution_count": 56,
     "metadata": {},
     "output_type": "execute_result"
    }
   ],
   "source": [
    "image_metadata = requests.get(\n",
    "    'https://clarklab.uvarc.io/mds/' + image_id\n",
    ").json()\n",
    "image_metadata"
   ]
  },
  {
   "cell_type": "markdown",
   "metadata": {},
   "source": [
    "### Build Evidence graph of created image using the evidence graph service"
   ]
  },
  {
   "cell_type": "code",
   "execution_count": 57,
   "metadata": {},
   "outputs": [],
   "source": [
    "evidence_graph = requests.get(\n",
    "    'https://clarklab.uvarc.io/evidencegraph/eg/' + image_id\n",
    ")"
   ]
  },
  {
   "cell_type": "code",
   "execution_count": 58,
   "metadata": {},
   "outputs": [
    {
     "data": {
      "text/plain": [
       "{'@context': {'@vocab': 'http://schema.org/', 'evi': 'http://purl.org/evi/'},\n",
       " '@id': 'ark:99999/7681ef7e-82bf-4fa1-913a-f1870d8203ea',\n",
       " '@type': 'Dataset',\n",
       " 'evi:generatedBy': {'@id': 'ark:99999/6312878c-a2ed-4b83-b298-6c7f16538815',\n",
       "  '@type': 'evi:Computation',\n",
       "  'began': 'Tuesday, July 28, 2020 11:31:44',\n",
       "  'evi:usedDataset': {'@id': 'ark:99999/496b5ab9-1fd9-4d76-8e00-fb3a616313c1',\n",
       "   '@type': 'Dataset',\n",
       "   'evi:generatedBy': {'@id': 'ark:99999/a86cc2b6-6c3d-4dde-a8a0-ba84c49f8082',\n",
       "    '@type': 'evi:Computation',\n",
       "    'began': 'Tuesday, July 28, 2020 11:29:31',\n",
       "    'evi:usedDataset': {'@id': 'ark:99999/c00d2f61-3943-4187-8ae4-f063ae99c56f',\n",
       "     '@type': 'Dataset',\n",
       "     'author': {'@id': 'https://orcid.org/0000-0002-1103-3882',\n",
       "      '@type': 'Person',\n",
       "      'name': 'Justin Niestroy'},\n",
       "     'name': 'Raw Data'},\n",
       "    'evi:usedSoftware': {'@id': 'ark:99999/ebbbd304-8c8c-40bb-8e91-dc4e3157c813',\n",
       "     '@type': 'SoftwareSourceCode',\n",
       "     'author': {'@id': 'https://orcid.org/0000-0002-1103-3882',\n",
       "      '@type': 'Person',\n",
       "      'name': 'Justin Niestroy'},\n",
       "     'name': 'Processing  Script'},\n",
       "    'name': 'Computation'},\n",
       "   'name': 'part-00000-6ad57486-fa4e-4ef7-9690-2d3a9151a08d-c000.csv'},\n",
       "  'evi:usedSoftware': {'@id': 'ark:99999/6698fe15-edac-41b1-b45b-ae4e5124d862',\n",
       "   '@type': 'SoftwareSourceCode',\n",
       "   'author': {'@id': 'https://orcid.org/0000-0002-1103-3882',\n",
       "    '@type': 'Person',\n",
       "    'name': 'Justin Niestroy'},\n",
       "   'name': 'Image Script'},\n",
       "  'name': 'Computation'},\n",
       " 'name': 'Histogram_Heatmap.png'}"
      ]
     },
     "execution_count": 58,
     "metadata": {},
     "output_type": "execute_result"
    }
   ],
   "source": [
    "evidence_graph.json()"
   ]
  },
  {
   "cell_type": "markdown",
   "metadata": {},
   "source": [
    "## View Visualization of the Evidence Graph"
   ]
  },
  {
   "cell_type": "code",
   "execution_count": 59,
   "metadata": {},
   "outputs": [
    {
     "data": {
      "text/plain": [
       "'https://clarklab.uvarc.io/viz/ark:99999/7681ef7e-82bf-4fa1-913a-f1870d8203ea'"
      ]
     },
     "execution_count": 59,
     "metadata": {},
     "output_type": "execute_result"
    }
   ],
   "source": [
    "'https://clarklab.uvarc.io/viz/' + image_id"
   ]
  },
  {
   "cell_type": "code",
   "execution_count": null,
   "metadata": {},
   "outputs": [],
   "source": []
  }
 ],
 "metadata": {
  "kernelspec": {
   "display_name": "Python 3",
   "language": "python",
   "name": "python3"
  },
  "language_info": {
   "codemirror_mode": {
    "name": "ipython",
    "version": 3
   },
   "file_extension": ".py",
   "mimetype": "text/x-python",
   "name": "python",
   "nbconvert_exporter": "python",
   "pygments_lexer": "ipython3",
   "version": "3.7.6"
  }
 },
 "nbformat": 4,
 "nbformat_minor": 2
}
