{
 "cells": [
  {
   "cell_type": "markdown",
   "metadata": {},
   "source": [
    "## Using Transfer Service upload data with metadata"
   ]
  },
  {
   "cell_type": "code",
   "execution_count": 103,
   "metadata": {},
   "outputs": [],
   "source": [
    "import requests \n",
    "import json\n",
    "\n",
    "dataset_meta = {\n",
    "    \"@context\":{\n",
    "        \"@vocab\":\"http://schema.org/\"\n",
    "    },\n",
    "    \"@type\":\"Dataset\",\n",
    "    \"name\":\"Raw Data\",\n",
    "    \"description\":\"Heart Rate Measures from patient from admission to discharge.\",\n",
    "    \"author\":[\n",
    "        {\n",
    "            \"name\":\"Justin Niestroy\",\n",
    "            \"@id\": \"https://orcid.org/0000-0002-1103-3882\",\n",
    "            \"affiliation\":\"University of Virginia\"\n",
    "        }\n",
    "    ],\n",
    "}"
   ]
  },
  {
   "cell_type": "markdown",
   "metadata": {},
   "source": [
    "Below is API call to post dataset to minio and metadata to mongo"
   ]
  },
  {
   "cell_type": "code",
   "execution_count": 104,
   "metadata": {},
   "outputs": [
    {
     "data": {
      "text/plain": [
       "{'All files uploaded': True,\n",
       " 'Failed to mint Id for': [],\n",
       " 'Minted Identifiers': ['ark:99999/81e079a5-a53c-460d-8581-07bd2eb73fe7'],\n",
       " 'failed to upload': []}"
      ]
     },
     "execution_count": 104,
     "metadata": {},
     "output_type": "execute_result"
    }
   ],
   "source": [
    "upload_data = requests.post(\n",
    "    'https://clarklab.uvarc.io/transfer/data/',\n",
    "    files = {\n",
    "        'files':open('UVA_7129_HR2.csv','rb'),\n",
    "        'metadata':json.dumps(dataset_meta)\n",
    "    }\n",
    ")\n",
    "\n",
    "data_id = upload_data.json()['Minted Identifiers'][0]\n",
    "upload_data.json()"
   ]
  },
  {
   "cell_type": "markdown",
   "metadata": {},
   "source": [
    "## Check MDS to make sure metadata was uploaded correctly"
   ]
  },
  {
   "cell_type": "code",
   "execution_count": 105,
   "metadata": {},
   "outputs": [
    {
     "data": {
      "text/plain": [
       "{'@context': {'@vocab': 'http://schema.org/'},\n",
       " '@id': 'ark:99999/81e079a5-a53c-460d-8581-07bd2eb73fe7',\n",
       " '@type': 'Dataset',\n",
       " 'author': [{'@id': 'https://orcid.org/0000-0002-1103-3882',\n",
       "   'affiliation': 'University of Virginia',\n",
       "   'name': 'Justin Niestroy'}],\n",
       " 'description': 'Heart Rate Measures from patient from admission to discharge.',\n",
       " 'distribution': [{'@id': 'ark:99999/c0528aa3-d6b9-44c7-ad91-6433a008d755',\n",
       "   '@type': 'DataDownload',\n",
       "   'contentSize': 214877,\n",
       "   'contentUrl': 'minionas.uvadcos.io/breakfast/UVA_7129_HR2.csv',\n",
       "   'fileFormat': 'csv',\n",
       "   'name': 'UVA_7129_HR2.csv'}],\n",
       " 'name': 'Raw Data',\n",
       " 'sdPublicationDate': '2020-07-28T20:07:16.332386861Z',\n",
       " 'url': 'http://ors.uvadcos.io/ark:99999/81e079a5-a53c-460d-8581-07bd2eb73fe7'}"
      ]
     },
     "execution_count": 105,
     "metadata": {},
     "output_type": "execute_result"
    }
   ],
   "source": [
    "metadata_request = requests.get('https://clarklab.uvarc.io/mds/' + data_id)\n",
    "metadata_request.json()"
   ]
  },
  {
   "cell_type": "markdown",
   "metadata": {},
   "source": [
    "## Upload Spark Script to run on newly uploaded data"
   ]
  },
  {
   "cell_type": "code",
   "execution_count": 106,
   "metadata": {},
   "outputs": [],
   "source": [
    "spark_code_meta = {\n",
    "    \"@context\":{\n",
    "        \"@vocab\":\"http://schema.org/\"\n",
    "    },\n",
    "    \"@type\":\"SoftwareSourceCode\",\n",
    "    \"name\":\"Processing  Script\",\n",
    "    \"description\":\"Sample Source Code for HCTSA test on spark\",\n",
    "    \"author\":[\n",
    "        {\n",
    "            \"name\":\"Justin Niestroy\",\n",
    "            \"@id\": \"https://orcid.org/0000-0002-1103-3882\",\n",
    "            \"affiliation\":\"University of Virginia\"\n",
    "      }\n",
    "    ]\n",
    "}"
   ]
  },
  {
   "cell_type": "code",
   "execution_count": 107,
   "metadata": {
    "scrolled": true
   },
   "outputs": [],
   "source": [
    "upload_script = requests.post(\n",
    "    'https://clarklab.uvarc.io/transfer/data/',\n",
    "    files= {\n",
    "        'files':open('./run_algos.py','rb'),\n",
    "        'metadata':json.dumps(spark_code_meta)\n",
    "    }\n",
    ")\n",
    "\n",
    "software_id = upload_script.json()['Minted Identifiers'][0]"
   ]
  },
  {
   "cell_type": "markdown",
   "metadata": {},
   "source": [
    "## Submit Spark Job Using Compute Service"
   ]
  },
  {
   "cell_type": "code",
   "execution_count": 108,
   "metadata": {},
   "outputs": [],
   "source": [
    "job = {\n",
    "    \"datasetID\":data_id,\n",
    "    \"scriptID\":software_id\n",
    "}\n",
    "\n",
    "create_job = requests.post(\n",
    "    \"https://clarklab.uvarc.io/compute/spark\",\n",
    "    json = job\n",
    ")\n",
    "\n",
    "job_id = create_job.content.decode()"
   ]
  },
  {
   "cell_type": "code",
   "execution_count": 109,
   "metadata": {},
   "outputs": [
    {
     "data": {
      "text/plain": [
       "'08684e5e-d397-4177-8fd4-5cf219063e87'"
      ]
     },
     "execution_count": 109,
     "metadata": {},
     "output_type": "execute_result"
    }
   ],
   "source": [
    "job_id"
   ]
  },
  {
   "cell_type": "markdown",
   "metadata": {},
   "source": [
    "## Watch Running Job"
   ]
  },
  {
   "cell_type": "code",
   "execution_count": 111,
   "metadata": {},
   "outputs": [
    {
     "data": {
      "text/plain": [
       "{'runningJobIds': ['10e7c024-dea5-40cb-ab11-594b5a34086f',\n",
       "  'ac30b49c-3697-44db-864a-74e654393214']}"
      ]
     },
     "execution_count": 111,
     "metadata": {},
     "output_type": "execute_result"
    }
   ],
   "source": [
    "requests.get(\"http://clarklab.uvarc.io/compute/spark\").json()"
   ]
  },
  {
   "cell_type": "markdown",
   "metadata": {},
   "source": [
    "## Get Job outputs from job metadata"
   ]
  },
  {
   "cell_type": "code",
   "execution_count": 112,
   "metadata": {},
   "outputs": [],
   "source": [
    "job_metadata_request = requests.get(\n",
    "    'https://clarklab.uvarc.io/mds/ark:99999/' + job_id\n",
    ")\n",
    "\n",
    "job_metadata = job_metadata_request.json()\n",
    "output_id = job_metadata.get('evi:supports')"
   ]
  },
  {
   "cell_type": "code",
   "execution_count": 113,
   "metadata": {},
   "outputs": [
    {
     "data": {
      "text/plain": [
       "['ark:99999/e844b72d-a73b-4bbb-9c2c-414a1c8af0f4',\n",
       " 'ark:99999/056a3156-303d-4eee-9b81-667ea9637809']"
      ]
     },
     "execution_count": 113,
     "metadata": {},
     "output_type": "execute_result"
    }
   ],
   "source": [
    "output_id"
   ]
  },
  {
   "cell_type": "code",
   "execution_count": 114,
   "metadata": {},
   "outputs": [],
   "source": [
    "output_metadata = [ \n",
    "    requests.get('https://clarklab.uvarc.io/mds/' + out).json() for out in output_id\n",
    "]"
   ]
  },
  {
   "cell_type": "code",
   "execution_count": 115,
   "metadata": {},
   "outputs": [
    {
     "data": {
      "text/plain": [
       "[{'@context': {'@vocab': 'http://schema.org/'},\n",
       "  '@id': 'ark:99999/e844b72d-a73b-4bbb-9c2c-414a1c8af0f4',\n",
       "  'distribution': [{'@id': 'ark:99999/7a904ded-4a20-4702-aab5-7dafa3ee60b2',\n",
       "    '@type': 'DataDownload',\n",
       "    'contentUrl': 'minio:9000/breakfast/08684e5e-d397-4177-8fd4-5cf219063e87/_SUCCESS',\n",
       "    'fileFormat': '_SUCCESS',\n",
       "    'name': '_SUCCESS'}],\n",
       "  'evi:generatedBy': {'@id': 'ark:99999/08684e5e-d397-4177-8fd4-5cf219063e87'},\n",
       "  'name': '_SUCCESS',\n",
       "  'sdPublicationDate': '2020-07-28T20:08:57.266793026Z',\n",
       "  'url': 'http://ors.uvadcos.io/ark:99999/e844b72d-a73b-4bbb-9c2c-414a1c8af0f4'},\n",
       " {'@context': {'@vocab': 'http://schema.org/'},\n",
       "  '@id': 'ark:99999/056a3156-303d-4eee-9b81-667ea9637809',\n",
       "  'distribution': [{'@id': 'ark:99999/b2ef4061-67ae-4c77-9d76-64d3fdd06ad3',\n",
       "    '@type': 'DataDownload',\n",
       "    'contentUrl': 'minio:9000/breakfast/08684e5e-d397-4177-8fd4-5cf219063e87/part-00000-4423af52-5ac9-45ed-9f8d-99d7ca069581-c000.csv',\n",
       "    'fileFormat': 'csv',\n",
       "    'name': 'part-00000-4423af52-5ac9-45ed-9f8d-99d7ca069581-c000.csv'}],\n",
       "  'evi:generatedBy': {'@id': 'ark:99999/08684e5e-d397-4177-8fd4-5cf219063e87'},\n",
       "  'name': 'part-00000-4423af52-5ac9-45ed-9f8d-99d7ca069581-c000.csv',\n",
       "  'sdPublicationDate': '2020-07-28T20:08:57.472418556Z',\n",
       "  'url': 'http://ors.uvadcos.io/ark:99999/056a3156-303d-4eee-9b81-667ea9637809'}]"
      ]
     },
     "execution_count": 115,
     "metadata": {},
     "output_type": "execute_result"
    }
   ],
   "source": [
    "output_metadata"
   ]
  },
  {
   "cell_type": "markdown",
   "metadata": {},
   "source": [
    "## Upload Image Code"
   ]
  },
  {
   "cell_type": "code",
   "execution_count": 139,
   "metadata": {},
   "outputs": [],
   "source": [
    "spark_graphic_meta = {\n",
    "    \"@context\":{\n",
    "        \"@vocab\":\"http://schema.org/\"\n",
    "    },\n",
    "    \"@type\":\"SoftwareSourceCode\",\n",
    "    \"name\":\"Image Script\",\n",
    "    \"description\":\"Creates heatmap of patients stay\",\n",
    "    \"author\":[\n",
    "        {\n",
    "            \"name\":\"Justin Niestroy\",\n",
    "            \"@id\": \"https://orcid.org/0000-0002-1103-3882\",\n",
    "            \"affiliation\":\"University of Virginia\"\n",
    "      }\n",
    "    ]\n",
    "}"
   ]
  },
  {
   "cell_type": "code",
   "execution_count": 140,
   "metadata": {},
   "outputs": [
    {
     "data": {
      "text/plain": [
       "'ark:99999/e5703b2c-22d4-4e1b-a98c-d2fe9e133675'"
      ]
     },
     "execution_count": 140,
     "metadata": {},
     "output_type": "execute_result"
    }
   ],
   "source": [
    "files = {\n",
    "    'files':open('./make_graphic.py','rb'),\n",
    "    'metadata':json.dumps(spark_graphic_meta)\n",
    "}\n",
    "\n",
    "upload_graphic_code = requests.post(\n",
    "    'https://clarklab.uvarc.io/transfer/data/',\n",
    "    files=files\n",
    ")\n",
    "\n",
    "graphic_code_id = upload_graphic_code.json()['Minted Identifiers'][0]\n",
    "graphic_code_id"
   ]
  },
  {
   "cell_type": "markdown",
   "metadata": {},
   "source": [
    "## Run Spark Job to create Image"
   ]
  },
  {
   "cell_type": "code",
   "execution_count": 141,
   "metadata": {},
   "outputs": [
    {
     "data": {
      "text/plain": [
       "'ark:99999/f6f6448b-06a1-443e-bba1-06b06fd27170'"
      ]
     },
     "execution_count": 141,
     "metadata": {},
     "output_type": "execute_result"
    }
   ],
   "source": [
    "image_job = {\n",
    "    \"datasetID\":output_id[1],\n",
    "    \"scriptID\": graphic_code_id\n",
    "}\n",
    "\n",
    "image_job_request = requests.post(\n",
    "    \"https://clarklab.uvarc.io/compute/spark\",\n",
    "    json = image_job\n",
    ")\n",
    "\n",
    "image_job_id = 'ark:99999/' + image_job_request.content.decode()\n",
    "image_job_id"
   ]
  },
  {
   "cell_type": "markdown",
   "metadata": {},
   "source": [
    "## Check on running jobs"
   ]
  },
  {
   "cell_type": "code",
   "execution_count": 149,
   "metadata": {},
   "outputs": [
    {
     "data": {
      "text/plain": [
       "{'runningJobIds': ['10e7c024-dea5-40cb-ab11-594b5a34086f',\n",
       "  'ac30b49c-3697-44db-864a-74e654393214']}"
      ]
     },
     "execution_count": 149,
     "metadata": {},
     "output_type": "execute_result"
    }
   ],
   "source": [
    "requests.get(\"http://clarklab.uvarc.io/compute/spark\").json()"
   ]
  },
  {
   "cell_type": "markdown",
   "metadata": {},
   "source": [
    "### Get image ID from Updated Job ID"
   ]
  },
  {
   "cell_type": "code",
   "execution_count": 153,
   "metadata": {},
   "outputs": [
    {
     "data": {
      "text/plain": [
       "'ark:99999/23e73f31-f2c4-4551-b83a-b8709fd224c4'"
      ]
     },
     "execution_count": 153,
     "metadata": {},
     "output_type": "execute_result"
    }
   ],
   "source": [
    "image_job_metadata = requests.get(\n",
    "    'https://clarklab.uvarc.io/mds/' + image_job_id\n",
    ").json()\n",
    "image_id = image_job_metadata.get('evi:supports')[0]\n",
    "image_id"
   ]
  },
  {
   "cell_type": "markdown",
   "metadata": {},
   "source": [
    "## Get the image metadata"
   ]
  },
  {
   "cell_type": "code",
   "execution_count": 155,
   "metadata": {},
   "outputs": [
    {
     "data": {
      "text/plain": [
       "{'@context': {'@vocab': 'http://schema.org/'},\n",
       " '@id': 'ark:99999/23e73f31-f2c4-4551-b83a-b8709fd224c4',\n",
       " 'distribution': [{'@id': 'ark:99999/b535a7e6-c7fa-4ed1-ab3e-52f3c4986413',\n",
       "   '@type': 'DataDownload',\n",
       "   'contentUrl': 'minio:9000/breakfast/f6f6448b-06a1-443e-bba1-06b06fd27170/Histogram_Heatmap.png',\n",
       "   'fileFormat': 'png',\n",
       "   'name': 'Histogram_Heatmap.png'}],\n",
       " 'evi:generatedBy': {'@id': 'ark:99999/f6f6448b-06a1-443e-bba1-06b06fd27170'},\n",
       " 'name': 'Histogram_Heatmap.png',\n",
       " 'sdPublicationDate': '2020-07-28T20:30:25.351057523Z',\n",
       " 'url': 'http://ors.uvadcos.io/ark:99999/23e73f31-f2c4-4551-b83a-b8709fd224c4'}"
      ]
     },
     "execution_count": 155,
     "metadata": {},
     "output_type": "execute_result"
    }
   ],
   "source": [
    "image_metadata = requests.get(\n",
    "    'https://clarklab.uvarc.io/mds/' + image_id\n",
    ").json()\n",
    "image_metadata"
   ]
  },
  {
   "cell_type": "markdown",
   "metadata": {},
   "source": [
    "### Build Evidence graph of created image using the evidence graph service"
   ]
  },
  {
   "cell_type": "code",
   "execution_count": 166,
   "metadata": {},
   "outputs": [],
   "source": [
    "evidence_graph = requests.get(\n",
    "    'https://clarklab.uvarc.io/evidencegraph/eg/' + image_id\n",
    ")"
   ]
  },
  {
   "cell_type": "code",
   "execution_count": 170,
   "metadata": {},
   "outputs": [
    {
     "data": {
      "text/plain": [
       "{'@context': {'@vocab': 'http://schema.org/', 'evi': 'http://purl.org/evi/'},\n",
       " '@id': 'ark:99999/23e73f31-f2c4-4551-b83a-b8709fd224c4',\n",
       " 'evi:generatedBy': {'@id': 'ark:99999/f6f6448b-06a1-443e-bba1-06b06fd27170',\n",
       "  '@type': 'evi:Computation',\n",
       "  'began': 'Tuesday, July 28, 2020 08:29:54',\n",
       "  'evi:supports': 'ark:99999/23e73f31-f2c4-4551-b83a-b8709fd224c4',\n",
       "  'evi:usedDataset': {'@id': 'ark:99999/056a3156-303d-4eee-9b81-667ea9637809',\n",
       "   'evi:generatedBy': {'@id': 'ark:99999/08684e5e-d397-4177-8fd4-5cf219063e87',\n",
       "    '@type': 'evi:Computation',\n",
       "    'began': 'Tuesday, July 28, 2020 08:07:56',\n",
       "    'evi:supports': [{'@id': 'ark:99999/e844b72d-a73b-4bbb-9c2c-414a1c8af0f4'},\n",
       "     {'@id': 'ark:99999/056a3156-303d-4eee-9b81-667ea9637809'}],\n",
       "    'evi:usedDataset': {'@id': 'ark:99999/81e079a5-a53c-460d-8581-07bd2eb73fe7',\n",
       "     '@type': 'Dataset',\n",
       "     'author': {'@id': 'https://orcid.org/0000-0002-1103-3882',\n",
       "      'name': 'Justin Niestroy'},\n",
       "     'name': 'Raw Data'},\n",
       "    'evi:usedSoftware': {'@id': 'ark:99999/b6ba1f41-0fb2-4079-9d57-011e7af90835',\n",
       "     '@type': 'SoftwareSourceCode',\n",
       "     'author': {'@id': 'https://orcid.org/0000-0002-1103-3882',\n",
       "      'name': 'Justin Niestroy'},\n",
       "     'name': 'Processing  Script'}},\n",
       "   'name': 'part-00000-4423af52-5ac9-45ed-9f8d-99d7ca069581-c000.csv'},\n",
       "  'evi:usedSoftware': {'@id': 'ark:99999/e5703b2c-22d4-4e1b-a98c-d2fe9e133675',\n",
       "   '@type': 'SoftwareSourceCode',\n",
       "   'author': {'@id': 'https://orcid.org/0000-0002-1103-3882',\n",
       "    'name': 'Justin Niestroy'},\n",
       "   'name': 'Image Script'}},\n",
       " 'name': 'Histogram_Heatmap.png'}"
      ]
     },
     "execution_count": 170,
     "metadata": {},
     "output_type": "execute_result"
    }
   ],
   "source": [
    "evidence_graph.json()"
   ]
  },
  {
   "cell_type": "markdown",
   "metadata": {},
   "source": [
    "## View Visualization of the Evidence Graph"
   ]
  },
  {
   "cell_type": "code",
   "execution_count": 171,
   "metadata": {},
   "outputs": [
    {
     "data": {
      "text/plain": [
       "'https://clarklab.uvarc.io/viz/ark:99999/23e73f31-f2c4-4551-b83a-b8709fd224c4'"
      ]
     },
     "execution_count": 171,
     "metadata": {},
     "output_type": "execute_result"
    }
   ],
   "source": [
    "'https://clarklab.uvarc.io/viz/' + image_id"
   ]
  },
  {
   "cell_type": "code",
   "execution_count": null,
   "metadata": {},
   "outputs": [],
   "source": []
  }
 ],
 "metadata": {
  "kernelspec": {
   "display_name": "Python 3",
   "language": "python",
   "name": "python3"
  },
  "language_info": {
   "codemirror_mode": {
    "name": "ipython",
    "version": 3
   },
   "file_extension": ".py",
   "mimetype": "text/x-python",
   "name": "python",
   "nbconvert_exporter": "python",
   "pygments_lexer": "ipython3",
   "version": "3.7.6"
  }
 },
 "nbformat": 4,
 "nbformat_minor": 2
}
