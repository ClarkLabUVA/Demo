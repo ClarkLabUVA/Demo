{
 "cells": [
  {
   "cell_type": "markdown",
   "metadata": {},
   "source": [
    "# Nipype Full Framework Demo"
   ]
  },
  {
   "cell_type": "markdown",
   "metadata": {},
   "source": [
    "## Use Transfer Service to Upload Data with Metadata"
   ]
  },
  {
   "cell_type": "markdown",
   "metadata": {},
   "source": [
    "#### Metadata:"
   ]
  },
  {
   "cell_type": "code",
   "execution_count": 1,
   "metadata": {},
   "outputs": [],
   "source": [
    "import requests \n",
    "import json\n",
    "\n",
    "dataset_meta = {\n",
    "    \"@context\":{\n",
    "        \"@vocab\":\"http://schema.org/\"\n",
    "    },\n",
    "    \"@type\":\"Dataset\",\n",
    "    \"name\":\"sub-01_t1w_preproc.nii.gz\",\n",
    "    \"description\":\"sub-01 preproccesed\",\n",
    "    \"author\":'Michael Notter',\n",
    "    'folder':'inputs'\n",
    "}"
   ]
  },
  {
   "cell_type": "markdown",
   "metadata": {},
   "source": [
    "#### Service Call:"
   ]
  },
  {
   "cell_type": "code",
   "execution_count": null,
   "metadata": {},
   "outputs": [],
   "source": [
    "files = {\n",
    "    'files':open('sub-01_t1w_preproc.nii.gz','rb'),\n",
    "    'metadata':json.dumps(dataset_meta)\n",
    "}\n",
    "\n",
    "url = 'http://transfer-service/data/'\n",
    "r = requests.post(url,files=files)\n",
    "data_upload = r.json()\n",
    "data_id1 = r.json()['Minted Identifiers'][0]\n",
    "\n"
   ]
  },
  {
   "cell_type": "markdown",
   "metadata": {},
   "source": [
    "#### Transfer Service Response:"
   ]
  },
  {
   "cell_type": "code",
   "execution_count": null,
   "metadata": {},
   "outputs": [],
   "source": [
    "data_upload"
   ]
  },
  {
   "cell_type": "markdown",
   "metadata": {},
   "source": [
    "## Call MDS to Get Metadata for Minted ID"
   ]
  },
  {
   "cell_type": "code",
   "execution_count": null,
   "metadata": {},
   "outputs": [],
   "source": [
    "requests.get('http://mds.ors/' + data_id1).json()"
   ]
  },
  {
   "cell_type": "markdown",
   "metadata": {},
   "source": [
    "## Second Dataset Needed"
   ]
  },
  {
   "cell_type": "code",
   "execution_count": null,
   "metadata": {},
   "outputs": [],
   "source": [
    "dataset_meta = {\n",
    "    \"@context\":{\n",
    "        \"@vocab\":\"http://schema.org/\"\n",
    "    },\n",
    "    \"@type\":\"Dataset\",\n",
    "    \"name\":\"sub-01_ses-test_task-fingerfootlips_bold.nii.gz\",\n",
    "    \"description\":\"sub-01 task\",\n",
    "    \"author\":'Michael Notter',\n",
    "    'folder':'inputs'\n",
    "}"
   ]
  },
  {
   "cell_type": "code",
   "execution_count": null,
   "metadata": {},
   "outputs": [],
   "source": [
    "files = {\n",
    "    'files':open('sub-01_ses-test_task-fingerfootlips_bold.nii.gz','rb'),\n",
    "    'metadata':json.dumps(dataset_meta)\n",
    "}\n",
    "\n",
    "url = 'http://transfer-service/data/'\n",
    "r = requests.post(url,files=files)\n",
    "data_id2 = r.json()['Minted Identifiers'][0]\n"
   ]
  },
  {
   "cell_type": "markdown",
   "metadata": {},
   "source": [
    "## Upload Nipype WF via Transfer Service"
   ]
  },
  {
   "cell_type": "code",
   "execution_count": null,
   "metadata": {},
   "outputs": [],
   "source": [
    "software_meta = {\n",
    "    \"@context\":{\n",
    "        \"@vocab\":\"http://schema.org/\"\n",
    "    },\n",
    "    \"@type\":\"SoftwareSourceCode\",\n",
    "    \"name\":\"Sample Neuro Workflow\",\n",
    "    \"description\":\"sub-01 task\",\n",
    "    \"author\":'Michael Notter',\n",
    "    \"folder\":\"inputs\"\n",
    "}"
   ]
  },
  {
   "cell_type": "code",
   "execution_count": null,
   "metadata": {},
   "outputs": [],
   "source": [
    "files = {\n",
    "    'files':open('new_script.py','rb'),\n",
    "    'metadata':json.dumps(dataset_meta)\n",
    "}\n",
    "\n",
    "url = 'http://transfer-service/data/'\n",
    "r = requests.post(url,files=files)\n",
    "software_id = r.json()['Minted Identifiers'][0]\n"
   ]
  },
  {
   "cell_type": "markdown",
   "metadata": {},
   "source": [
    "## Call Compute Service to Run WF on Posted Data"
   ]
  },
  {
   "cell_type": "markdown",
   "metadata": {},
   "source": [
    "#### Returned Job ID"
   ]
  },
  {
   "cell_type": "code",
   "execution_count": null,
   "metadata": {},
   "outputs": [],
   "source": [
    "job = {\"datasetID\":[data_id1,data_id2],\"scriptID\":software_id}\n",
    "\n",
    "R = requests.post(\"http://sparksubmit/nipype\",json = job)\n",
    "job_id = R.content.decode()\n",
    "job_id"
   ]
  },
  {
   "cell_type": "markdown",
   "metadata": {},
   "source": [
    "#### Check Status of Job with Second Call to Compute Service"
   ]
  },
  {
   "cell_type": "code",
   "execution_count": null,
   "metadata": {},
   "outputs": [],
   "source": [
    "requests.get('http://sparksubmit/job/ark:99999/' + job_id).json()"
   ]
  },
  {
   "cell_type": "markdown",
   "metadata": {},
   "source": [
    "## Review Job Outputs"
   ]
  },
  {
   "cell_type": "markdown",
   "metadata": {},
   "source": [
    "#### Get all Minted Output IDs"
   ]
  },
  {
   "cell_type": "code",
   "execution_count": null,
   "metadata": {},
   "outputs": [],
   "source": [
    "all_outputs = requests.get('http://mds.ors/ark:99999/' + job_id).json()['eg:supports']"
   ]
  },
  {
   "cell_type": "markdown",
   "metadata": {},
   "source": [
    "#### Check Individual Output Metadata with Call to MDS"
   ]
  },
  {
   "cell_type": "code",
   "execution_count": null,
   "metadata": {},
   "outputs": [],
   "source": [
    "output_of_interest = all_outputs[-3]\n",
    "requests.get('http://mds.ors/' + output_of_interest).json()"
   ]
  },
  {
   "cell_type": "markdown",
   "metadata": {},
   "source": [
    "## Call Evidence Graph Service to See Evidence Graph of Output"
   ]
  },
  {
   "cell_type": "code",
   "execution_count": null,
   "metadata": {},
   "outputs": [],
   "source": [
    "eg = requests.get('http://eg/eg/' + output_of_interest).json()\n",
    "eg"
   ]
  },
  {
   "cell_type": "markdown",
   "metadata": {},
   "source": [
    "## Visualization of Evidence Graph"
   ]
  },
  {
   "cell_type": "code",
   "execution_count": null,
   "metadata": {},
   "outputs": [],
   "source": [
    "visual = requests.get('http://visualize/' + output_of_interest).json()\n",
    "#Will need to add things here to show html clearly\n",
    "visual"
   ]
  },
  {
   "cell_type": "markdown",
   "metadata": {},
   "source": [
    "### If of interest there's a second workflow that uses outputs of first"
   ]
  },
  {
   "cell_type": "code",
   "execution_count": null,
   "metadata": {},
   "outputs": [],
   "source": [
    "dataset_meta = {\n",
    "    \"@context\":{\n",
    "        \"@vocab\":\"http://schema.org/\"\n",
    "    },\n",
    "    \"@type\":\"Dataset\",\n",
    "    \"name\":\"task-fingerfootlips_events.tsv\",\n",
    "    \"description\":\"Events tsv for all subjects\"\n",
    "}"
   ]
  },
  {
   "cell_type": "code",
   "execution_count": null,
   "metadata": {},
   "outputs": [],
   "source": [
    "files = {\n",
    "    'files':open('task-fingerfootlips_events.tsv','rb'),\n",
    "    'metadata':json.dumps(dataset_meta)\n",
    "}\n",
    "\n",
    "url = 'http://transfer-service/data/'\n",
    "r = requests.post(url,files=files)\n",
    "r.content.decode()\n",
    "\"ark:99999/88f69ce2-8725-4d5c-abd1-e418d32c55a2\""
   ]
  },
  {
   "cell_type": "code",
   "execution_count": null,
   "metadata": {},
   "outputs": [],
   "source": [
    "dataset_meta = {\n",
    "    \"@context\":{\n",
    "        \"@vocab\":\"http://schema.org/\"\n",
    "    },\n",
    "    \"@type\":\"SoftwareSourceCode\",\n",
    "    \"name\":\"First Analysis Step\",\n",
    "    \"description\":\"Follow-up script after preproccsing\",\n",
    "    \"author\":'Michael Notter'\n",
    "}"
   ]
  },
  {
   "cell_type": "code",
   "execution_count": 1,
   "metadata": {},
   "outputs": [
    {
     "data": {
      "text/plain": [
       "{'@id': 'ark:99999/e98abd34-7745-4d82-8bed-81bf863734ce',\n",
       " 'eg:generatedBy': {'@id': 'ark:99999/3f81d2bd-82a3-490f-91ea-5203f3e5b525',\n",
       "  'eg:usedDataset': {'@id': 'ark:99999/4c334a12-1ae6-4ae9-b3e6-99398d16a44b',\n",
       "   'eg:generatedBy': {'@id': 'ark:99999/ef2a6cad-d531-4739-93cf-c616e512250d',\n",
       "    'eg:usedDataset': {'@id': 'ark:99999/c93b8e12-c10f-4f87-8a16-0bb775c88005',\n",
       "     '@type': 'Dataset',\n",
       "     'author': 'Michael Notter',\n",
       "     'eg:generatedBy': {'@id': 'ark:99999/00b1935a-a3f9-47c3-bad0-410f9c9b9e4c',\n",
       "      'eg:usedDataset': {'@id': 'ark:99999/eff9c6a5-742a-4f68-af10-33860ed86f99',\n",
       "       'eg:generatedBy': {'@id': 'ark:99999/756364ca-e733-498b-bf02-5211c49f6d90',\n",
       "        'eg:usedDataset': {'@id': 'ark:99999/d0caff28-c328-46b6-a68a-dbb18565d3b8',\n",
       "         'eg:generatedBy': {'@id': 'ark:99999/d4a8cfe5-6270-4fe6-850a-1e0d4fb1b845'},\n",
       "         'name': 'sub-01_ses-test_task-fingerfootlips_bold_roi_mcf.nii'},\n",
       "        'eg:usedSoftware': 'ark:99999/c2b8b21a-cc5b-49f0-970b-424726cb2ad7'},\n",
       "       'name': 'sub-01_t1w_preproc_brain_pve_2.nii.gz'},\n",
       "      'eg:usedSoftware': 'ark:99999/e54e4ffa-3b52-4338-9b25-a5e6cfed8106'},\n",
       "     'name': 'sub-01_t1w_preproc.nii.gz'},\n",
       "    'eg:usedSoftware': 'ark:99999/347b9a85-fe84-4067-9916-19d4966a8ecd'},\n",
       "   'name': 'sub-01_ses-test_task-fingerfootlips_bold_roi_mcf.nii.par'},\n",
       "  'eg:usedSoftware': 'ark:99999/e88af7ba-b10a-4561-b99f-02e7ad991e7b'},\n",
       " 'name': 'fwhm-4_ssub-01_ses-test_task-fingerfootlips_bold.nii'}"
      ]
     },
     "execution_count": 1,
     "metadata": {},
     "output_type": "execute_result"
    }
   ],
   "source": [
    "{'@id': 'ark:99999/e98abd34-7745-4d82-8bed-81bf863734ce', 'eg:generatedBy': {'@id': 'ark:99999/3f81d2bd-82a3-490f-91ea-5203f3e5b525', 'eg:usedDataset': {'@id': 'ark:99999/4c334a12-1ae6-4ae9-b3e6-99398d16a44b', 'eg:generatedBy': {'@id': 'ark:99999/ef2a6cad-d531-4739-93cf-c616e512250d', 'eg:usedDataset': {'@id': 'ark:99999/c93b8e12-c10f-4f87-8a16-0bb775c88005', '@type': 'Dataset', 'author': 'Michael Notter', 'eg:generatedBy': {'@id': 'ark:99999/00b1935a-a3f9-47c3-bad0-410f9c9b9e4c', 'eg:usedDataset': {'@id': 'ark:99999/eff9c6a5-742a-4f68-af10-33860ed86f99', 'eg:generatedBy': {'@id': 'ark:99999/756364ca-e733-498b-bf02-5211c49f6d90', 'eg:usedDataset': {'@id': 'ark:99999/d0caff28-c328-46b6-a68a-dbb18565d3b8', 'eg:generatedBy': {'@id': 'ark:99999/d4a8cfe5-6270-4fe6-850a-1e0d4fb1b845'}, 'name': 'sub-01_ses-test_task-fingerfootlips_bold_roi_mcf.nii'}, 'eg:usedSoftware': 'ark:99999/c2b8b21a-cc5b-49f0-970b-424726cb2ad7'}, 'name': 'sub-01_t1w_preproc_brain_pve_2.nii.gz'}, 'eg:usedSoftware': 'ark:99999/e54e4ffa-3b52-4338-9b25-a5e6cfed8106'}, 'name': 'sub-01_t1w_preproc.nii.gz'}, 'eg:usedSoftware': 'ark:99999/347b9a85-fe84-4067-9916-19d4966a8ecd'}, 'name': 'sub-01_ses-test_task-fingerfootlips_bold_roi_mcf.nii.par'}, 'eg:usedSoftware': 'ark:99999/e88af7ba-b10a-4561-b99f-02e7ad991e7b'}, 'name': 'fwhm-4_ssub-01_ses-test_task-fingerfootlips_bold.nii'}"
   ]
  },
  {
   "cell_type": "code",
   "execution_count": null,
   "metadata": {},
   "outputs": [],
   "source": [
    "files = {\n",
    "    'files':open('2nd Step.py','rb'),\n",
    "    'metadata':json.dumps(dataset_meta)\n",
    "}\n",
    "\n",
    "url = 'http://transfer-service/data/'\n",
    "r = requests.post(url,files=files)\n",
    "r.content.decode()\n",
    "ark:99999/251fb7cf-1711-472e-a54d-3834efba92ef"
   ]
  },
  {
   "cell_type": "code",
   "execution_count": null,
   "metadata": {},
   "outputs": [],
   "source": [
    "data_ids = requests.get('http://mds.ors/ark:99999/fc813955-d8ba-4a88-800a-e5fc21a1119e').json()['eg:supports']\n",
    "data_ids.append(\"ark:99999/88f69ce2-8725-4d5c-abd1-e418d32c55a2\")\n",
    "script_id = 'ark:99999/251fb7cf-1711-472e-a54d-3834efba92ef'\n",
    "job = {\"datasetID\":data_ids,\"scriptID\":script_id}\n",
    "\n",
    "R = requests.post(\"http://sparksubmit/nipype\",json = job)\n",
    "R.content.decode()"
   ]
  }
 ],
 "metadata": {
  "kernelspec": {
   "display_name": "Python 3",
   "language": "python",
   "name": "python3"
  },
  "language_info": {
   "codemirror_mode": {
    "name": "ipython",
    "version": 3
   },
   "file_extension": ".py",
   "mimetype": "text/x-python",
   "name": "python",
   "nbconvert_exporter": "python",
   "pygments_lexer": "ipython3",
   "version": "3.7.6"
  }
 },
 "nbformat": 4,
 "nbformat_minor": 2
}
